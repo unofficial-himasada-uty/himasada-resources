{
 "cells": [
  {
   "cell_type": "markdown",
   "metadata": {},
   "source": [
    "NB: SESUAIKAN DENGAN KEBUTUHAN PROJECT TEMAN-TEMAN"
   ]
  },
  {
   "cell_type": "code",
   "execution_count": null,
   "metadata": {},
   "outputs": [],
   "source": [
    "# LIBRARY\n",
    "import os\n",
    "import warnings\n",
    "from pathlib import Path\n",
    "\n",
    "import pandas as pd\n",
    "import seaborn as sns\n",
    "\n",
    "# CUSTOM PACKAGES\n",
    "\n",
    "\n",
    "# CONFIGURATION\n",
    "sns.set()\n",
    "warnings.filterwarnings(\"ignore\")\n",
    "pd.set_option(\"display.max_columns\", None)\n",
    "pd.options.display.float_format = \"{:,.2f}\".format\n",
    "\n",
    "# GLOBAL VARIABLE\n",
    "RANDOM_STATE = 123\n",
    "\n",
    "# project_root = Path(os.getcwd())  # sesuaikan dengan root direktori project anda\n",
    "# RAW_DATA_PATH = project_root / \"data\" / \"raw\"\n",
    "# PROCESSED_DATA_PATH = project_root / \"data\" / \"processed\"\n",
    "# FIGURE_PATH = project_root / \"reports\" / \"figures/\"\n",
    "# RESULTS_PATH = project_root / \"reports\" / \"results\"\n",
    "# VERSION_MODEL_PATH = project_root / \"models\" / \"versioned_models\"\n",
    "# FINAL_MODEL_PATH = project_root / \"models\"\n",
    "\n",
    "# COLOR = []"
   ]
  },
  {
   "cell_type": "markdown",
   "metadata": {},
   "source": [
    "# **YOUR PROJECT NAME**"
   ]
  },
  {
   "cell_type": "markdown",
   "metadata": {},
   "source": [
    "# 1. Business Understanding"
   ]
  },
  {
   "cell_type": "markdown",
   "metadata": {},
   "source": [
    "## 1.1. Determine Business Objective"
   ]
  },
  {
   "cell_type": "markdown",
   "metadata": {},
   "source": [
    "### 1.1.1. Background"
   ]
  },
  {
   "cell_type": "markdown",
   "metadata": {},
   "source": [
    "Informasi yang diketahui tentang situasi bisnis dari klien. Berisi informasi bisnis, masalah, dan solusi saat ini.\n",
    "\n",
    "ex:\n",
    "- Sebuah perusahaan X bergerak di bidang …… dipimpin oleh…..dst\n",
    "- masalah yang dihadapi yaitu: penjualan produk mengalami \n",
    "penurunan, banyak pelanggan yang tidak kembali, ……dst\n",
    "- Solusi yang sudah diterapkan: menambah promosi produk, tapi ini \n",
    "membutuhkan biaya yang tidak sedikit, dan tidak signifikan hasilnya…..dst"
   ]
  },
  {
   "cell_type": "markdown",
   "metadata": {},
   "source": [
    "### 1.1.2. Business Objective"
   ]
  },
  {
   "cell_type": "markdown",
   "metadata": {},
   "source": [
    " Tentukan tujuan utama yang ingin dicapai klien, dalam perspektif bisnis.\n",
    " \n",
    " ex:\n",
    "\n",
    " - Membuat pelanggan tidak beralih ke produk perusahaan lain\n",
    " - Membuat kebijakan yang sesuai keinginan rakyat\n",
    " - Menurunkan jumlah kasus korupsi di kalangan pejabat\n",
    " - Mengetahui karakteristik masyarakat pengguna media sosial\n",
    " - .. dll"
   ]
  },
  {
   "cell_type": "markdown",
   "metadata": {},
   "source": [
    "### 1.1.3. Business Sucess Criteria"
   ]
  },
  {
   "cell_type": "markdown",
   "metadata": {},
   "source": [
    "Kriteria sukses dari target bisnis yang ingin dicapai: gunakan SMART goals ...\n",
    "\n",
    "Kriteria yang menjadikan business objective dikatakan berhasil atau tidak. Spesifik dan bisa diukur (SMART GOALS).\n",
    "ex:\n",
    "- Customer retention rate > 90%\n",
    "- Jumlah protes kebijakan di media sosial berkurang 30%\n",
    "- Jumlah kasus korupsi berkurang 50%\n",
    "- Bidang HR dapat memahami karakteristik masyarakat.\n",
    "- Dl"
   ]
  },
  {
   "cell_type": "markdown",
   "metadata": {},
   "source": [
    "## 1.2. Assess Situation"
   ]
  },
  {
   "cell_type": "markdown",
   "metadata": {},
   "source": [
    "Menjelaskan tentang sumber daya, batasan, asumsi, dan faktor-faktor lain yang bisa berpengaruh"
   ]
  },
  {
   "cell_type": "markdown",
   "metadata": {},
   "source": [
    "### 1.2.1. Inverntory of Resources"
   ]
  },
  {
   "cell_type": "markdown",
   "metadata": {},
   "source": [
    "Daftar sumber daya yang tersedia untuk projek\n",
    "\n",
    "Contoh:\n",
    "\n",
    "- Daftar hardware yang tersedia (komputer, server, dll)\n",
    "- Sumber data dan pengetahuan (data apa saja yang dimiliki)\n",
    "- Sumber daya manusia (ekspertis yang tersedia, teknisi, dll)\n",
    "- Sumber dana\n",
    "- dll"
   ]
  },
  {
   "cell_type": "markdown",
   "metadata": {},
   "source": [
    "Sumber daya yang tersedia di perusahaan untuk mendukung proyek data science adalah sebagai berikut:\n",
    "1. Hardware:\n",
    "  - **Komputer**: Intel Core i7 Generasi ke-11 dengan RAM 32 GB.\n",
    "  - **Laptop**: AMD Ryzen 7 dengan RAM 16 GB dan kartu grafis NVIDIA GeForce RTX™ 3050\n",
    "\n",
    "2. Database Property:\n",
    "  - **Jenis**: SQL Database\n",
    "  - **Table List**: detail_properti_rumah, detail_properti_apartemen, detail_properti_perumahan.\n",
    "\n",
    "3. Software & Tools:\n",
    "  - **Bahasa Pemrograman**: Python untuk analisis data. Library yang digunakan meliputi:\n",
    "    - Pandas untuk pengolaha dataframe\n",
    "    - Numpy untuk analisis numerik\n",
    "    - Matplotlib, Seaborn, Plotly untuk visualisasi\n",
    "    - Sklearn dan XGBoost untuk pemodelan\n",
    "    - Optuna untuk hyperparameter optimization\n",
    "  - **Lingkungan Pengembangan**: vs code dan google colab untuk eksplorasi analisis dan pemodelan\n",
    "\n",
    "4. Sumber Daya Manusia:\n",
    "  - Data Engineer: Bertanggung jawab untuk ekstraksi, transformasi, dan manajemen data di database.\n",
    "  - Front-End Developer: Membangun tampilan dan antarmuka aplikasi.\n",
    "  - Back-End Developer: Mengelola server dan pengembangan backend aplikasi.\n",
    "  - Data Scientist: Melakukan analisis data, pemodelan machine learning, dan interpretasi hasil.\n",
    "  - Marketing Analyst: Menganalisis kebutuhan pasar dan mengintegrasikan hasil dari analisis data.\n",
    "  - Head of Data: Mengarahkan strategi data dan memastikan keselarasan proyek dengan tujuan bisnis perusahaan."
   ]
  },
  {
   "cell_type": "markdown",
   "metadata": {},
   "source": [
    "### 1.2.2. Requairements, Assumptions, Constraints"
   ]
  },
  {
   "cell_type": "markdown",
   "metadata": {},
   "source": [
    "Daftar kebutuhan, daftar asumsi, daftar batasan\n",
    "Contoh:\n",
    "- Kebutuhan: jadwal pelaksanaan, data yang dibutuhkan, sumber daya, dll\n",
    "- Asumsi: kualitas data (ketersediaan, akurasi, dll), faktor eksternal, dll\n",
    "- Batasan: dana, waktu, sumber daya, data, dl"
   ]
  },
  {
   "cell_type": "markdown",
   "metadata": {},
   "source": [
    "ex:\n",
    "\n",
    "Requirement\n",
    "1. **Jadwal Pelaksanaan**:\n",
    "   - Proyek ini direncanakan selesai dalam waktu 3 bulan dengan tahapan mulai dari analisis data, pembersihan data, pemodelan, hingga evaluasi model.\n",
    "2. **Data yang Dibutuhkan**:\n",
    "   - Dataset properti yang mencakup informasi terkait atribut rumah seperti jumlah kamar tidur, kamar mandi, luas area rumah, luas total halaman, jumlah lantai, kedekatan dengan area air, skala kualitas pemandangan, skala kondisi rumah, luas area lantai atas, luas area basement, tahun pembangunan pertama, tahun renovasi terakhir, nama jalan, nama kota, kode pos, dan harga rumah.\n",
    "   - Data historis penjualan rumah untuk validasi akurasi prediksi model.\n",
    "3. **Sumber Daya**:\n",
    "   - Tim data scientist yang berpengalaman dalam analisis dan pemodelan data.\n",
    "   - Tim teknis yang bertanggung jawab atas pengumpulan dan pemrosesan data.\n",
    "   - Infrastruktur komputasi untuk melakukan analisis dan pemodelan data (seperti server atau platform cloud computing).\n",
    "   - Software analisis dan pemodelan menggunakan Python, serta pustaka *machine learning*.\n",
    "\n",
    "Assumptions\n",
    "1. **Kualitas Data**:\n",
    "   - Data yang tersedia cukup lengkap dan memiliki kualitas yang baik dengan tingkat akurasi yang tinggi, mencakup informasi atribut rumah dan harga jual yang relevan.\n",
    "   - Tidak ada banyak *missing values* atau anomali data yang dapat memengaruhi hasil analisis dan model.\n",
    "2. **Faktor Eksternal**:\n",
    "   - Asumsi bahwa harga properti dalam dataset tidak terlalu terpengaruh oleh faktor ekonomi eksternal yang drastis (seperti resesi ekonomi atau kebijakan suku bunga).\n",
    "   - Kondisi pasar properti stabil selama periode analisis, sehingga model dapat memberikan hasil prediksi yang relevan.\n",
    "3. **Ketersediaan Data**:\n",
    "   - Data akan tersedia dalam rentang waktu yang cukup dan dengan cakupan geografis yang memadai untuk representasi yang akurat dari pasar.\n",
    "\n",
    "Constraints\n",
    "1. **Dana**:\n",
    "   - Anggaran yang dialokasikan untuk proyek ini terbatas sehingga harus dimaksimalkan untuk pengumpulan data, sumber daya manusia, dan infrastruktur teknologi.\n",
    "2. **Waktu**:\n",
    "   - Waktu proyek dibatasi dalam periode 3 bulan, yang dapat mempengaruhi kedalaman eksplorasi data dan percobaan model.\n",
    "3. **Sumber Daya**:\n",
    "   - Keterbatasan pada jumlah personal, khususnya data scientist yang bertanggung jawab atas analisis data dan pengembangan model.\n",
    "4. **Data**:\n",
    "   - Data yang digunakan mungkin tidak mencakup semua faktor eksternal yang dapat mempengaruhi harga properti, seperti tren pembangunan kota atau proyek infrastruktur baru.\n",
    "   - Ketersediaan data yang terbatas pada area tertentu saja, sehingga model mungkin kurang akurat jika diaplikasikan di area yang datanya tidak representatif.\n"
   ]
  },
  {
   "cell_type": "markdown",
   "metadata": {},
   "source": [
    "### 1.2.3. Risk and Contingencies"
   ]
  },
  {
   "cell_type": "markdown",
   "metadata": {},
   "source": [
    " Daftar resiko yang mungkin akan ada dan rencana mengatasinya\n",
    "\n",
    "Contoh:\n",
    "\n",
    "- Resiko: data yang didapat sangat “kotor”, data di komputer hilang, dll\n",
    "- Rencana mengatasi: tambah proses “cleansing”, menyimpan di cloud, dl"
   ]
  },
  {
   "cell_type": "markdown",
   "metadata": {},
   "source": [
    "- Data tidak representatif (hanya mencakup area atau waktu tertentu). Cara mengatasi dengan menambahkan data dari sumber eksternal atau jelaskan kepada pengguna akhir bahwa prediksi mungkin terbatas pada area atau periode waktu tertentu.\n",
    "\n",
    "- Kehilangan data atau file model selama pengembangan. Cara mengatasi simpan data dan model di cloud dengan *backup* otomatis dan gunakan kontrol versi (Git) untuk melacak perubahan kode dan data.\n",
    "\n",
    "- Hasil prediksi model kurang akurat. Mengatasi dengan menggunakan *hyperparameter tuning*, *ensemble methods*, dan *cross-validation* untuk meningkatkan akurasi dan stabilitas model.\n",
    "\n",
    "- Perubahan kondisi pasar properti (misalnya, resesi atau perubahan kebijakan). Cara Mengatasi dengan mengembangkan skenario \"what-if\" dan pastikan model dapat diperbarui dengan data terbaru.\n",
    "\n",
    "- Keterbatasan waktu menyebabkan tugas analisis dan pengembangan model terhambat. Cara mengatasi dengan  prioritaskan tugas inti terlebih dahulu, lakukan evaluasi rutin, dan tambahkan sumber daya jika diperlukan."
   ]
  },
  {
   "cell_type": "markdown",
   "metadata": {},
   "source": [
    "### 1.2.4. Terminology"
   ]
  },
  {
   "cell_type": "markdown",
   "metadata": {},
   "source": [
    "Penjelasan tentang istilah-istilah bisnis (spesifik di klien) dan data science \n",
    "yang berkaitan dengan projek\n",
    "\n",
    "Contoh:\n",
    "\n",
    "- Bisnis (spesifik): churn rate adalah…., R-naught adalah….., dll\n",
    "- Data Science: MSE adalah…., regresi adalah…., recall adalah…..,dl"
   ]
  },
  {
   "cell_type": "markdown",
   "metadata": {},
   "source": [
    "### 1.2.5. Costs and Benefits"
   ]
  },
  {
   "cell_type": "markdown",
   "metadata": {},
   "source": [
    "Perkiraan biaya-biaya yang dibutuhkan serta manfaat yang terkait.\n",
    " \n",
    "Contoh:\n",
    "- Pengambilan data 100 juta rupiah\n",
    "- Semakin banyak dana untuk pengambilan data -> data semakin banyak -> prediksi lebih akurat\n",
    "- Biaya sewa server 2 juta per bulan\n",
    "- Semakin mahal server (kapasitas bagus) -> proses modeling menjadi \n",
    "lebih cepat\n",
    "- Dll"
   ]
  },
  {
   "cell_type": "markdown",
   "metadata": {},
   "source": [
    "1. Pengambilan Data dengan biaya 100 juta rupiah\n",
    "  - Lebih banyak dana, jumlah data yang bisa diperoleh akan bertambah, sehingga akurasi model prediksi harga rumah dapat meningkat. Data dari berbagai sumber, seperti wilayah atau waktu yang berbeda, juga membantu model agar lebih sesuai dengan kondisi yang beragam.\n",
    "\n",
    "2. Sewa Server biaya 2 juta rupiah per bulan\n",
    "  - Server yang lebih canggih mempercepat pemodelan dan pengujian, serta memiliki kapasitas penyimpanan dan pemrosesan lebih besar untuk efisiensi pengolahan data dalam jumlah besar.\n",
    "\n",
    "3. Pengembangan Algoritma biaya 50 juta  untuk pengembangan awal\n",
    "  - Pengembangan algoritma canggih yang mampu beradaptasi dengan data baru dapat meningkatkan akurasi prediksi harga rumah, memberikan nilai tambah bagi perusahaan dan menjaga relevansi model seiring waktu.\n",
    "\n",
    "4. Pelatihan dan Pengembangan Tim\n",
    "biaya 30 juta\n",
    "  - Meningkatkan keterampilan tim dalam analisis data dan pemodelan tidak hanya mempercepat pengembangan dan penerapan model, tetapi juga mendorong inovasi yang lebih adaptif terhadap tantangan baru.\n",
    "\n",
    "5. Lisensi Software dan Tools biaya 15 juta rupiah per tahun\n",
    "  - Menggunakan software yang tepat tidak hanya meningkatkan efisiensi dalam pengolahan dan analisis data, tetapi juga menyediakan dukungan teknis dan pembaruan berkala yang menjaga sistem tetap mutakhir."
   ]
  },
  {
   "cell_type": "markdown",
   "metadata": {},
   "source": [
    "## 1.3. Determine Data Science Goals"
   ]
  },
  {
   "cell_type": "markdown",
   "metadata": {},
   "source": [
    "uraikan pengantar singkat yang terhubung dengan sukses kriteria bisnis ...\n",
    "\n",
    "ex:\n",
    "\n",
    "Untuk mencapai suskses kriteria point 1 dan 2, diperlukan analisis yang mendalam terkait dengan data harga rumah dan variabel-variabel yang berpengaruh. Oleh karena itu, dibuatlah data science project **judul project anda**."
   ]
  },
  {
   "cell_type": "markdown",
   "metadata": {},
   "source": [
    "### 1.3.1. Data Science Goals"
   ]
  },
  {
   "cell_type": "markdown",
   "metadata": {},
   "source": [
    "data scienece goals berdasarkan masing-masing sukses kriteria.  Tujuan yang bersifat teknis dan spesifik menjelaskan masalah yang ingin \n",
    "dipecahkan. Tipe masalah: deskripsi (Ringkasan karakteristik suatu data), eksplorasi (Mengungkap insight dalam suatu data), segmentasi (Pemisahan data ke dalam grup-grup), klasifikasi (Memprediksi label/kelas suatu data), regresi (Memprediksi nilai kontinyu dari data), atau asosiasi (Mengungkap keterkaitan antar data, grup, atau variabel)\n",
    "\n",
    "Contoh:\n",
    "\n",
    "- Klasifikasi produk yang akan dipilih pelanggan\n",
    "- Prediksi berapa banyak pelanggan yang akan membeli lagi\n",
    "- Dll\n",
    "\n",
    "1. Melakukan ekplorasi terhadap data harga rumah untuk mengetahui informasi yang berguna\n",
    "2. Membuat model predictive untuk memprediksi harga rumah"
   ]
  },
  {
   "cell_type": "markdown",
   "metadata": {},
   "source": [
    "### 1.3.2. Data Science Success Criteria"
   ]
  },
  {
   "cell_type": "markdown",
   "metadata": {},
   "source": [
    "sukses kriteria dari goals yang sudah dipaparkan diatas, boleh lebih dari goals asal memenuhi goals yang ingin dicapai. Kriteria keluaran yang dianggap sukses dalam istilah teknis\n",
    "\n",
    "Contoh:\n",
    "- Akurasi model prediksi > 95%\n",
    "- Indeks Silhouette > 0.8\n",
    "- subjective assessment\n",
    "- Dll\n",
    "\n",
    "1. Didapatkan insight baru rekomendasi harga rumah (goals 1)\n",
    "2. Didapatkan pemilihan kategorisasi rumah yang sesuai (goals 1)\n",
    "3. Mengetahui faktor-faktor yang dapat mempengaruhi harga rumah (goals 1)\n",
    "4. Dihasilkan model predictive dengan nilai MAE dibawah 5% dari rata-rata harga rumah (goals 2)"
   ]
  },
  {
   "cell_type": "markdown",
   "metadata": {},
   "source": [
    "## 1.4. Produce Project Plan"
   ]
  },
  {
   "cell_type": "markdown",
   "metadata": {},
   "source": [
    " Penjelasan tentang rencana dalam melaksanakan projek"
   ]
  },
  {
   "cell_type": "markdown",
   "metadata": {},
   "source": [
    "### 1.4.1. Project Plan"
   ]
  },
  {
   "cell_type": "markdown",
   "metadata": {},
   "source": [
    "- Daftar langkah-langkah dalam projek serta kebutuhan sumber daya untuk \n",
    "setiap langkah.\n",
    "- Bisa dibuat menggunakan gantt chart"
   ]
  },
  {
   "cell_type": "markdown",
   "metadata": {},
   "source": [
    "**Langkah-langkah Proyek dan Kebutuhan Sumber Daya**\n",
    "\n",
    "| **Langkah**                 | **Durasi**  | **Sumber Daya yang Diperlukan**                      |\n",
    "|-----------------------------|-------------|------------------------------------------------------|\n",
    "| 1. Persiapan dan Perencanaan | 3 Minggu     | - Tim Proyek (PM, Data Analyst, Developer)          |\n",
    "|                             |             | - Alat manajemen proyek (mis. Trello, Asana)        |\n",
    "| 2. Pengumpulan Data         | 4 Minggu     | - Tim Data Collection                                 |\n",
    "|                             |             | - Anggaran untuk pengambilan data                    |\n",
    "|                             |             | - Sumber data (akses database, survei)              |\n",
    "| 3. Pengembangan Model       | 5 Minggu     | - Data Scientist                                     |\n",
    "|                             |             | - Software analisis (mis. Python, R)                |\n",
    "|                             |             | - Server untuk pemrosesan data                       |\n",
    "| 4. Pengujian dan Validasi   | 1 Minggu      | - Tim QA (Quality Assurance)                         |\n",
    "|                             |             | - Data uji                                           |\n",
    "|                             |             | - Software analisis                                  |\n",
    "| 5. Implementasi dan Peluncuran| 1 Minggu      | - Tim IT untuk implementasi                          |\n",
    "|                             |             | - Pelatihan untuk pengguna akhir                     |\n",
    "|                             |             | - Dashboard atau alat visualisasi                    |\n",
    "| 6. Evaluasi dan Pemeliharaan | Berkelanjutan | - Tim Monitoring dan Evaluasi                         |\n",
    "|                             |             | - Sumber daya untuk pembaruan model                  |\n"
   ]
  },
  {
   "cell_type": "code",
   "execution_count": null,
   "metadata": {},
   "outputs": [
    {
     "data": {
      "image/png": "[encoded data removed]",
      "text/plain": [
       "<Figure size 1500x400 with 1 Axes>"
      ]
     },
     "metadata": {},
     "output_type": "display_data"
    }
   ],
   "source": [
    "data = {\n",
    "    \"Langkah\": [\n",
    "        \"Persiapan dan Perencanaan\",\n",
    "        \"Pengumpulan Data\",\n",
    "        \"Pengembangan Model\",\n",
    "        \"Pengujian dan Validasi\",\n",
    "        \"Implementasi dan Peluncuran\",\n",
    "        \"Evaluasi dan Pemeliharaan\",\n",
    "    ],\n",
    "    \"Start\": [1, 3, 6, 10, 11, 12],\n",
    "    \"Durasi\": [2, 3, 4, 1, 1, 1],  # Durasi dalam minggu\n",
    "}\n",
    "\n",
    "# Membuat DataFrame\n",
    "df = pd.DataFrame(data)\n",
    "df[\"Finish\"] = df[\"Start\"] + df[\"Durasi\"]\n",
    "\n",
    "# Mengatur posisi Y untuk langkah proyek\n",
    "df[\"Y_pos\"] = range(len(df), 0, -1)\n",
    "\n",
    "# Membuat Gantt chart\n",
    "plt.figure(figsize=(15, 4))\n",
    "plt.barh(df[\"Y_pos\"], df[\"Durasi\"], left=df[\"Start\"], color=\"skyblue\")\n",
    "\n",
    "# Menambahkan label dan judul\n",
    "plt.yticks(df[\"Y_pos\"], df[\"Langkah\"])\n",
    "plt.xticks(range(1, 14))  # Minggu 1 hingga 12\n",
    "plt.xlabel(\"Minggu\")\n",
    "plt.title(\"Gantt Chart Proyek: Prediksi Penjualan Harga Rumah (12 Minggu)\")\n",
    "plt.grid(axis=\"x\")\n",
    "\n",
    "# Menampilkan grafik\n",
    "plt.show()\n"
   ]
  },
  {
   "cell_type": "markdown",
   "metadata": {},
   "source": [
    "### 1.4.2. Initial Assessment of Tools and Techniques"
   ]
  },
  {
   "cell_type": "markdown",
   "metadata": {},
   "source": [
    "- Memilih alat dan metode yang potensial digunakan pada setiap fase dalam proyek.\n",
    "- Bisa disertakan plus minus masing-masing.\n",
    "\n",
    " Contoh:\n",
    "- Manajemen proyek: Ms Project, Ganttproject, dll\n",
    "- Eksplorasi: Tableau, dll\n",
    "- Model: Python, R, Knime, dll\n",
    "- Report: Latex, Ms Word, dll\n",
    "- Teknik prediksi: XGBoost, CNN, dll\n",
    "- Dll"
   ]
  },
  {
   "cell_type": "markdown",
   "metadata": {},
   "source": [
    "1. Tools Ekplorasi: Python library diantaranya\n",
    "    - matplotlib, mudah untuk digunakan mendukung subplot beberapa visualisasi dalam satu kanvas.\n",
    "    - seaborn, bisa terintegrasi dengan matplotlib dengan tampilan visual yang lebih estetik.\n",
    "    - plotly, menyediakan visualisasi yang estetik dan interaktif, bisa menggunakan facet plot.\n",
    "2. Tools Analysis: Python library diantaranya\n",
    "    - Pandas, untuk mengolah dataframe dan analisis statistik sederhana\n",
    "    - Numpy, analsis numerik materimatik dan statistik dasar\n",
    "    - Scipy, analisis statistik lanjut\n",
    "3. Report: Microsoft Word,"
   ]
  },
  {
   "cell_type": "markdown",
   "metadata": {},
   "source": [
    "# 2. Data Understanding"
   ]
  },
  {
   "cell_type": "markdown",
   "metadata": {},
   "source": [
    "## 2.1. Initial Data Collection Report"
   ]
  },
  {
   "cell_type": "markdown",
   "metadata": {},
   "source": [
    "**Import Data**"
   ]
  },
  {
   "cell_type": "markdown",
   "metadata": {},
   "source": [
    "ex:\n",
    "\n",
    "data diambil dari tabel detail_properti_rumah yang terdapat pada database property"
   ]
  },
  {
   "cell_type": "code",
   "execution_count": null,
   "metadata": {},
   "outputs": [],
   "source": []
  },
  {
   "cell_type": "markdown",
   "metadata": {},
   "source": [
    "## 2.2. Describe Data"
   ]
  },
  {
   "cell_type": "markdown",
   "metadata": {},
   "source": [
    "**Data Information**"
   ]
  },
  {
   "cell_type": "code",
   "execution_count": null,
   "metadata": {},
   "outputs": [],
   "source": []
  },
  {
   "cell_type": "markdown",
   "metadata": {},
   "source": [
    "**Data Description**"
   ]
  },
  {
   "cell_type": "code",
   "execution_count": null,
   "metadata": {},
   "outputs": [],
   "source": []
  },
  {
   "cell_type": "markdown",
   "metadata": {},
   "source": [
    "### 2.2.1. Data Description Report"
   ]
  },
  {
   "cell_type": "markdown",
   "metadata": {},
   "source": [
    "uraikan reporting summary statstic dan penjelasan tiap variable ..."
   ]
  },
  {
   "cell_type": "markdown",
   "metadata": {},
   "source": [
    "## 2.3. Explore Data"
   ]
  },
  {
   "cell_type": "markdown",
   "metadata": {},
   "source": [
    "### 2.3.1. Variables Distribution"
   ]
  },
  {
   "cell_type": "markdown",
   "metadata": {},
   "source": [
    "explore satu variabel(univariate) ..."
   ]
  },
  {
   "cell_type": "code",
   "execution_count": null,
   "metadata": {},
   "outputs": [],
   "source": []
  },
  {
   "cell_type": "markdown",
   "metadata": {},
   "source": [
    "### 2.3.2. Correlation Analysis"
   ]
  },
  {
   "cell_type": "markdown",
   "metadata": {},
   "source": [
    "explroe dua variable (bivariate) ..."
   ]
  },
  {
   "cell_type": "code",
   "execution_count": null,
   "metadata": {},
   "outputs": [],
   "source": []
  },
  {
   "cell_type": "markdown",
   "metadata": {},
   "source": [
    "### 2.3.2. Deep Dive"
   ]
  },
  {
   "cell_type": "markdown",
   "metadata": {},
   "source": [
    "explore lebih dari dua variable (multivariate) ..."
   ]
  },
  {
   "cell_type": "code",
   "execution_count": null,
   "metadata": {},
   "outputs": [],
   "source": []
  },
  {
   "cell_type": "markdown",
   "metadata": {},
   "source": [
    "### 2.3.4. Data Exploration Report"
   ]
  },
  {
   "cell_type": "markdown",
   "metadata": {},
   "source": [
    "uraikan exploration report yang didaaptkan. bisa menggunakan teknik explanatory data analysis ..."
   ]
  },
  {
   "cell_type": "markdown",
   "metadata": {},
   "source": []
  },
  {
   "cell_type": "markdown",
   "metadata": {},
   "source": [
    "## 2.4. Verify Data Quality"
   ]
  },
  {
   "cell_type": "markdown",
   "metadata": {},
   "source": [
    "### 2.4.1. Expect Columns Values not to be Null"
   ]
  },
  {
   "cell_type": "code",
   "execution_count": null,
   "metadata": {},
   "outputs": [],
   "source": []
  },
  {
   "cell_type": "markdown",
   "metadata": {},
   "source": [
    "### 2.4.2. Expect Object Columns Values to be Consistent"
   ]
  },
  {
   "cell_type": "markdown",
   "metadata": {},
   "source": [
    "memastikan nilai pada variable dengan tipe objek tidak terdapat inkonsistensi dalam penulisan besar keciil huruf"
   ]
  },
  {
   "cell_type": "code",
   "execution_count": null,
   "metadata": {},
   "outputs": [],
   "source": []
  },
  {
   "cell_type": "markdown",
   "metadata": {},
   "source": [
    "### 2.4.3. Expect Row Values not to be Duplicated"
   ]
  },
  {
   "cell_type": "markdown",
   "metadata": {},
   "source": [
    "memastikan tidak ada duplikasi baris"
   ]
  },
  {
   "cell_type": "code",
   "execution_count": null,
   "metadata": {},
   "outputs": [],
   "source": []
  },
  {
   "cell_type": "markdown",
   "metadata": {},
   "source": [
    "### 2.4.4. Expect Number Variable not to be Negative"
   ]
  },
  {
   "cell_type": "markdown",
   "metadata": {},
   "source": [
    "memastikan variable bertipe angka tidak bernilai negatif"
   ]
  },
  {
   "cell_type": "code",
   "execution_count": null,
   "metadata": {},
   "outputs": [],
   "source": []
  },
  {
   "cell_type": "markdown",
   "metadata": {},
   "source": [
    "### 2.4.5. Expect Target Variable not to be Zero"
   ]
  },
  {
   "cell_type": "code",
   "execution_count": null,
   "metadata": {},
   "outputs": [],
   "source": []
  },
  {
   "cell_type": "markdown",
   "metadata": {},
   "source": [
    "### 2.4.6. Data Quality Report"
   ]
  },
  {
   "cell_type": "markdown",
   "metadata": {},
   "source": [
    "uraikan temuan pengecekan data quality ..."
   ]
  },
  {
   "cell_type": "markdown",
   "metadata": {},
   "source": [
    "# 3. Data Preparation"
   ]
  },
  {
   "cell_type": "markdown",
   "metadata": {},
   "source": [
    "## 3.1. Select Data"
   ]
  },
  {
   "cell_type": "markdown",
   "metadata": {},
   "source": [
    "select relevant columns or rows ..."
   ]
  },
  {
   "cell_type": "markdown",
   "metadata": {},
   "source": [
    "## 3.2. Clean Data"
   ]
  },
  {
   "cell_type": "markdown",
   "metadata": {},
   "source": [
    "### 3.2.1. Missing Values Handling"
   ]
  },
  {
   "cell_type": "markdown",
   "metadata": {},
   "source": [
    "### 3.2.2. Outliers Handling"
   ]
  },
  {
   "cell_type": "markdown",
   "metadata": {},
   "source": [
    "## 3.3. Construct Data"
   ]
  },
  {
   "cell_type": "markdown",
   "metadata": {},
   "source": [
    "feature engineering ..."
   ]
  },
  {
   "cell_type": "markdown",
   "metadata": {},
   "source": [
    "## Integrate Data"
   ]
  },
  {
   "cell_type": "markdown",
   "metadata": {},
   "source": [
    "jika terdapat data external ..."
   ]
  },
  {
   "cell_type": "markdown",
   "metadata": {},
   "source": [
    "## Reformatted Data"
   ]
  },
  {
   "cell_type": "markdown",
   "metadata": {},
   "source": [
    "## Data Transformation"
   ]
  },
  {
   "cell_type": "markdown",
   "metadata": {},
   "source": [
    "## Feature Selection"
   ]
  },
  {
   "cell_type": "markdown",
   "metadata": {},
   "source": [
    "## Data Splitting"
   ]
  },
  {
   "cell_type": "markdown",
   "metadata": {},
   "source": [
    "## Feature Scaling"
   ]
  },
  {
   "cell_type": "code",
   "execution_count": null,
   "metadata": {},
   "outputs": [],
   "source": []
  },
  {
   "cell_type": "markdown",
   "metadata": {},
   "source": [
    "# 4. Modeling"
   ]
  },
  {
   "cell_type": "markdown",
   "metadata": {},
   "source": [
    "## 4.1. Select Modeling Technique"
   ]
  },
  {
   "cell_type": "markdown",
   "metadata": {},
   "source": [
    "### 4.1.1. Modeling Technique"
   ]
  },
  {
   "cell_type": "markdown",
   "metadata": {},
   "source": [
    "Permasalahan yang ingin diselesaikan adalah kasus regresi/klasifikasi/forecasting, metode yang di pilih adalah model regressor/lcassifier. Pada penelitian ini kami menggunakan beberapa algoritma regressor/classifier yaitu:\n",
    "\n",
    "- Tree-Based Model\n",
    "- Boosting Model\n",
    "- Ensemble Model"
   ]
  },
  {
   "cell_type": "markdown",
   "metadata": {},
   "source": [
    "### 4.1.2. Modeling Assumptions"
   ]
  },
  {
   "cell_type": "markdown",
   "metadata": {},
   "source": [
    "- Tree-Based:\n",
    "  - Tidak memerlukan normalitas data\n",
    "  - Independen dari multikolinearitas\n",
    "  - Dibolehkan nnon-lienar relationship\n",
    "- Boosting:\n",
    "  - Dibolehkan non-linear relationship\n",
    "  - Data bersih\n",
    "- Ensemble:\n",
    "  - Robust terhadap outliers\n",
    "  - Tidak terdapat asumsi normalitas data"
   ]
  },
  {
   "cell_type": "markdown",
   "metadata": {},
   "source": [
    "## 4.2. Test Design"
   ]
  },
  {
   "cell_type": "markdown",
   "metadata": {},
   "source": [
    "- Model akan dibuat menggunakan data training dengan mencoba membandingkan beberapa model regressor yang telah disebutkan pada bagian modeling technique\n",
    "- Model akan diuji menggunakan data testing dengan mengukur metrik mean absolute error (MAE), mean square error (MSE), root mean square error (RMSE)."
   ]
  },
  {
   "cell_type": "markdown",
   "metadata": {},
   "source": [
    "## 4.3. Build Model"
   ]
  },
  {
   "cell_type": "code",
   "execution_count": null,
   "metadata": {},
   "outputs": [],
   "source": []
  },
  {
   "cell_type": "markdown",
   "metadata": {},
   "source": [
    "## 4.4. Assess Model"
   ]
  },
  {
   "cell_type": "markdown",
   "metadata": {},
   "source": [
    "### 4.4.1. Model Assessment"
   ]
  },
  {
   "cell_type": "code",
   "execution_count": null,
   "metadata": {},
   "outputs": [],
   "source": []
  },
  {
   "cell_type": "markdown",
   "metadata": {},
   "source": [
    "### 4.4.2. Revised Parameter Settings"
   ]
  },
  {
   "cell_type": "code",
   "execution_count": null,
   "metadata": {},
   "outputs": [],
   "source": []
  },
  {
   "cell_type": "markdown",
   "metadata": {},
   "source": [
    "### 4.4.3.  Assess Tuned Model"
   ]
  },
  {
   "cell_type": "markdown",
   "metadata": {},
   "source": [
    "# 5. Evaluation"
   ]
  },
  {
   "cell_type": "markdown",
   "metadata": {},
   "source": [
    "## 5.1. Evaluate Results"
   ]
  },
  {
   "cell_type": "markdown",
   "metadata": {},
   "source": [
    "House Price Prediction Data Science Project Results:"
   ]
  },
  {
   "cell_type": "markdown",
   "metadata": {},
   "source": [
    "- Insight baru didapatkan dari eksplorasi data yang telah dilakukan pada sub bab 2.3. Explore Data yang mencakup:\n",
    "  - Karakteristik rumah berdasarkan harga rumah yaitu Luxury, High, Moderate, Affordable\n",
    "  - Didapatkan ciri-ciri kategorisasi rumah berdasarkan gaya arsitektur rumah\n",
    "  - Didapatkan faktor-faktor yang mempengaruhi harga rumah\n",
    "- Namun pada project ini, nilai MAE yang dihasilkan dari model masih lebih dari 5% dari rata-rata harga rumah yaitu sekitar 16% dari rata-rata harga rumah."
   ]
  },
  {
   "cell_type": "markdown",
   "metadata": {},
   "source": [
    "Diharapkan dari temuan-temuan yang didapatkan pada point 1 mampu membantu dalam pengambilan keputusan bisnis, meningkatkan pendapatan perusahaan, dan meningkatkan strategi pemasaran yang efektif."
   ]
  },
  {
   "cell_type": "markdown",
   "metadata": {},
   "source": [
    "## 5.2. Review Process"
   ]
  },
  {
   "cell_type": "markdown",
   "metadata": {},
   "source": [
    "Proses yang dilakukan padaData Science Project ini mengikuti framework CRISP-DM yaitu:\n",
    "1. Business Understanding: ...\n",
    "2. Data Understanding: ...\n",
    "3. Data Preparation: ...\n",
    "4. Modeling: ...\n",
    "5. Evaluation: ...\n",
    "6. Deployment: ..."
   ]
  },
  {
   "cell_type": "markdown",
   "metadata": {},
   "source": [
    "## 5.3. Determine Next Steps"
   ]
  },
  {
   "cell_type": "markdown",
   "metadata": {},
   "source": [
    "# 6. Deployment"
   ]
  },
  {
   "cell_type": "code",
   "execution_count": null,
   "metadata": {},
   "outputs": [],
   "source": []
  },
  {
   "cell_type": "markdown",
   "metadata": {},
   "source": [
    "# 7. Conclution"
   ]
  },
  {
   "cell_type": "markdown",
   "metadata": {},
   "source": [
    "uraikan kesimpulan keseluruhan project ..."
   ]
  },
  {
   "cell_type": "markdown",
   "metadata": {},
   "source": []
  }
 ],
 "metadata": {
  "kernelspec": {
   "display_name": "Python 3",
   "language": "python",
   "name": "python3"
  },
  "language_info": {
   "codemirror_mode": {
    "name": "ipython",
    "version": 3
   },
   "file_extension": ".py",
   "mimetype": "text/x-python",
   "name": "python",
   "nbconvert_exporter": "python",
   "pygments_lexer": "ipython3",
   "version": "3.10.7"
  }
 },
 "nbformat": 4,
 "nbformat_minor": 2
}
